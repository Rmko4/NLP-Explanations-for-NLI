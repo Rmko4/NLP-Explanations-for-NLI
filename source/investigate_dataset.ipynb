{
 "cells": [
  {
   "cell_type": "code",
   "execution_count": 1,
   "metadata": {},
   "outputs": [],
   "source": [
    "import datasets\n",
    "import random\n",
    "import pandas as pd\n",
    "from IPython.display import display, HTML"
   ]
  },
  {
   "cell_type": "code",
   "execution_count": 2,
   "metadata": {},
   "outputs": [],
   "source": [
    "def show_random_elements(dataset, num_examples=5):\n",
    "    assert num_examples <= len(dataset), \"Can't pick more elements than there are in the dataset.\"\n",
    "    picks = []\n",
    "    for _ in range(num_examples):\n",
    "        pick = random.randint(0, len(dataset)-1)\n",
    "        while pick in picks:\n",
    "            pick = random.randint(0, len(dataset)-1)\n",
    "        picks.append(pick)\n",
    "    \n",
    "    df = pd.DataFrame(dataset[picks])\n",
    "    for column, typ in dataset.features.items():\n",
    "        if isinstance(typ, datasets.ClassLabel):\n",
    "            df[column] = df[column].transform(lambda i: typ.names[i])\n",
    "    display(HTML(df.to_html()))"
   ]
  },
  {
   "cell_type": "code",
   "execution_count": 3,
   "metadata": {},
   "outputs": [
    {
     "name": "stderr",
     "output_type": "stream",
     "text": [
      "Found cached dataset esnli (/home/jeroen-ov/.cache/huggingface/datasets/esnli/plain_text/0.0.2/a160e6a02bbb8d828c738918dafec4e7d298782c334b5109af632fec6d779bbc)\n"
     ]
    },
    {
     "data": {
      "application/vnd.jupyter.widget-view+json": {
       "model_id": "51f311b19328459f9956c9600240a056",
       "version_major": 2,
       "version_minor": 0
      },
      "text/plain": [
       "  0%|          | 0/3 [00:00<?, ?it/s]"
      ]
     },
     "metadata": {},
     "output_type": "display_data"
    }
   ],
   "source": [
    "raw_datasets = datasets.load_dataset(\"esnli\")"
   ]
  },
  {
   "cell_type": "code",
   "execution_count": 8,
   "metadata": {},
   "outputs": [
    {
     "data": {
      "text/html": [
       "<table border=\"1\" class=\"dataframe\">\n",
       "  <thead>\n",
       "    <tr style=\"text-align: right;\">\n",
       "      <th></th>\n",
       "      <th>premise</th>\n",
       "      <th>hypothesis</th>\n",
       "      <th>label</th>\n",
       "      <th>explanation_1</th>\n",
       "      <th>explanation_2</th>\n",
       "      <th>explanation_3</th>\n",
       "    </tr>\n",
       "  </thead>\n",
       "  <tbody>\n",
       "    <tr>\n",
       "      <th>0</th>\n",
       "      <td>three dogs run through the grass.</td>\n",
       "      <td>Three dogs run through the dead, brown grass.</td>\n",
       "      <td>neutral</td>\n",
       "      <td>The grass may be live and green, not probably dead, brown.</td>\n",
       "      <td>Dogs can run through green, live grass like through dead, brown grass</td>\n",
       "      <td>WE have no idea if the grass is dead, and brown, it could be green.</td>\n",
       "    </tr>\n",
       "    <tr>\n",
       "      <th>1</th>\n",
       "      <td>An Asian woman enjoys a nice treat</td>\n",
       "      <td>A lady is taking pleasure from a treat.</td>\n",
       "      <td>entailment</td>\n",
       "      <td>Answer: the lady is an Asian woman and the pleasure refers to enjoys.</td>\n",
       "      <td>Enjoying a treat entails pleasure.</td>\n",
       "      <td>Similar subjects (woman, lady), similar verbs (enjoys, taking pleasure from), and a common direct object (treat).</td>\n",
       "    </tr>\n",
       "    <tr>\n",
       "      <th>2</th>\n",
       "      <td>two little girls dancing on the floor</td>\n",
       "      <td>Two kids jiving on the dance floor.</td>\n",
       "      <td>neutral</td>\n",
       "      <td>Kids can dance without jiving.</td>\n",
       "      <td>There are many ways to dance besides jiving.</td>\n",
       "      <td>Just because they are dancing does not mean they are jiving.</td>\n",
       "    </tr>\n",
       "    <tr>\n",
       "      <th>3</th>\n",
       "      <td>People jump over a mountain crevasse on a rope.</td>\n",
       "      <td>Some people look visually afraid to jump.</td>\n",
       "      <td>neutral</td>\n",
       "      <td>People looking afraid to jump doesn't mean they are jumping over a mountain crevasse.</td>\n",
       "      <td>Just because the people are jumping over a mountain crevasse doesn't mean they look afraid to jump.</td>\n",
       "      <td>Although the people are jumping over the crevasse, they may not appear to be visually afraid to do so.</td>\n",
       "    </tr>\n",
       "    <tr>\n",
       "      <th>4</th>\n",
       "      <td>A balding man with glasses stands in front of a colorful display.</td>\n",
       "      <td>A thick haired man sits on the ground.</td>\n",
       "      <td>contradiction</td>\n",
       "      <td>Balding is the opposite of thick haired.</td>\n",
       "      <td>A man stands and a man sits can't happen at the same time.</td>\n",
       "      <td>A balding man cannot be a thick haired man.</td>\n",
       "    </tr>\n",
       "  </tbody>\n",
       "</table>"
      ],
      "text/plain": [
       "<IPython.core.display.HTML object>"
      ]
     },
     "metadata": {},
     "output_type": "display_data"
    }
   ],
   "source": [
    "show_random_elements(raw_datasets[\"test\"])"
   ]
  },
  {
   "cell_type": "code",
   "execution_count": 9,
   "metadata": {},
   "outputs": [
    {
     "data": {
      "text/plain": [
       "{'premise': 'A woman with a green headscarf, blue shirt and a very big grin.',\n",
       " 'hypothesis': 'The woman is young.',\n",
       " 'label': 1,\n",
       " 'explanation_1': \"the woman could've been old rather than young\",\n",
       " 'explanation_2': 'There is no indication that the woman is young.',\n",
       " 'explanation_3': 'Not all women are young.'}"
      ]
     },
     "execution_count": 9,
     "metadata": {},
     "output_type": "execute_result"
    }
   ],
   "source": [
    "raw_datasets['test'][3]"
   ]
  }
 ],
 "metadata": {
  "kernelspec": {
   "display_name": "nlp",
   "language": "python",
   "name": "python3"
  },
  "language_info": {
   "codemirror_mode": {
    "name": "ipython",
    "version": 3
   },
   "file_extension": ".py",
   "mimetype": "text/x-python",
   "name": "python",
   "nbconvert_exporter": "python",
   "pygments_lexer": "ipython3",
   "version": "3.10.4"
  },
  "orig_nbformat": 4
 },
 "nbformat": 4,
 "nbformat_minor": 2
}
