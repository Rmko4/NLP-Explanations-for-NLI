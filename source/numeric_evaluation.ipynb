{
 "cells": [
  {
   "cell_type": "code",
   "execution_count": 9,
   "metadata": {},
   "outputs": [],
   "source": [
    "import pandas as pd\n",
    "\n",
    "full = pd.read_csv('./results/Predictions_Full.csv')\n",
    "lora = pd.read_csv('./results/Predictions_Lora.csv')\n"
   ]
  },
  {
   "cell_type": "code",
   "execution_count": 10,
   "metadata": {},
   "outputs": [
    {
     "data": {
      "text/html": [
       "<div>\n",
       "<style scoped>\n",
       "    .dataframe tbody tr th:only-of-type {\n",
       "        vertical-align: middle;\n",
       "    }\n",
       "\n",
       "    .dataframe tbody tr th {\n",
       "        vertical-align: top;\n",
       "    }\n",
       "\n",
       "    .dataframe thead th {\n",
       "        text-align: right;\n",
       "    }\n",
       "</style>\n",
       "<table border=\"1\" class=\"dataframe\">\n",
       "  <thead>\n",
       "    <tr style=\"text-align: right;\">\n",
       "      <th></th>\n",
       "      <th>input_text</th>\n",
       "      <th>generated_text</th>\n",
       "      <th>reference_texts_0</th>\n",
       "      <th>reference_texts_1</th>\n",
       "      <th>reference_texts_2</th>\n",
       "      <th>predicted_label</th>\n",
       "      <th>reference_label</th>\n",
       "    </tr>\n",
       "  </thead>\n",
       "  <tbody>\n",
       "    <tr>\n",
       "      <th>0</th>\n",
       "      <td>premise: This church choir sings to the masses...</td>\n",
       "      <td>The church choir can't sing joyous songs if th...</td>\n",
       "      <td>Not all churches have cracks in the ceiling</td>\n",
       "      <td>There is no indication that there are cracks i...</td>\n",
       "      <td>Not all churches have cracks in the ceiling.</td>\n",
       "      <td>contradiction</td>\n",
       "      <td>neutral</td>\n",
       "    </tr>\n",
       "    <tr>\n",
       "      <th>1</th>\n",
       "      <td>premise: This church choir sings to the masses...</td>\n",
       "      <td>A church choir sings joyous songs from the boo...</td>\n",
       "      <td>\"Filled with song\" is a rephrasing of the \"cho...</td>\n",
       "      <td>hearing song brings joyous in the church.</td>\n",
       "      <td>If the church choir sings then the church is f...</td>\n",
       "      <td>entailment</td>\n",
       "      <td>entailment</td>\n",
       "    </tr>\n",
       "    <tr>\n",
       "      <th>2</th>\n",
       "      <td>premise: This church choir sings to the masses...</td>\n",
       "      <td>A church choir is not a baseball game.</td>\n",
       "      <td>A choir sing some other songs other than book ...</td>\n",
       "      <td>The choir is at a chruch not a baseball game.</td>\n",
       "      <td>A baseball game isn’t played at a church.</td>\n",
       "      <td>contradiction</td>\n",
       "      <td>contradiction</td>\n",
       "    </tr>\n",
       "    <tr>\n",
       "      <th>3</th>\n",
       "      <td>premise: A woman with a green headscarf, blue ...</td>\n",
       "      <td>Not all women are young.</td>\n",
       "      <td>the woman could've been old rather than young</td>\n",
       "      <td>There is no indication that the woman is young.</td>\n",
       "      <td>Not all women are young.</td>\n",
       "      <td>neutral</td>\n",
       "      <td>neutral</td>\n",
       "    </tr>\n",
       "    <tr>\n",
       "      <th>4</th>\n",
       "      <td>premise: A woman with a green headscarf, blue ...</td>\n",
       "      <td>A woman with a big grin is not necessarily ver...</td>\n",
       "      <td>a grin suggests hapiness.</td>\n",
       "      <td>A WOMAN WITH BIG GRIN IS HAPPY</td>\n",
       "      <td>One must be happy in order to have a big grin.</td>\n",
       "      <td>entailment</td>\n",
       "      <td>entailment</td>\n",
       "    </tr>\n",
       "  </tbody>\n",
       "</table>\n",
       "</div>"
      ],
      "text/plain": [
       "                                          input_text  \\\n",
       "0  premise: This church choir sings to the masses...   \n",
       "1  premise: This church choir sings to the masses...   \n",
       "2  premise: This church choir sings to the masses...   \n",
       "3  premise: A woman with a green headscarf, blue ...   \n",
       "4  premise: A woman with a green headscarf, blue ...   \n",
       "\n",
       "                                      generated_text  \\\n",
       "0  The church choir can't sing joyous songs if th...   \n",
       "1  A church choir sings joyous songs from the boo...   \n",
       "2             A church choir is not a baseball game.   \n",
       "3                           Not all women are young.   \n",
       "4  A woman with a big grin is not necessarily ver...   \n",
       "\n",
       "                                   reference_texts_0  \\\n",
       "0        Not all churches have cracks in the ceiling   \n",
       "1  \"Filled with song\" is a rephrasing of the \"cho...   \n",
       "2  A choir sing some other songs other than book ...   \n",
       "3      the woman could've been old rather than young   \n",
       "4                          a grin suggests hapiness.   \n",
       "\n",
       "                                   reference_texts_1  \\\n",
       "0  There is no indication that there are cracks i...   \n",
       "1          hearing song brings joyous in the church.   \n",
       "2      The choir is at a chruch not a baseball game.   \n",
       "3    There is no indication that the woman is young.   \n",
       "4                     A WOMAN WITH BIG GRIN IS HAPPY   \n",
       "\n",
       "                                   reference_texts_2 predicted_label  \\\n",
       "0       Not all churches have cracks in the ceiling.   contradiction   \n",
       "1  If the church choir sings then the church is f...      entailment   \n",
       "2          A baseball game isn’t played at a church.   contradiction   \n",
       "3                           Not all women are young.         neutral   \n",
       "4     One must be happy in order to have a big grin.      entailment   \n",
       "\n",
       "  reference_label  \n",
       "0         neutral  \n",
       "1      entailment  \n",
       "2   contradiction  \n",
       "3         neutral  \n",
       "4      entailment  "
      ]
     },
     "execution_count": 10,
     "metadata": {},
     "output_type": "execute_result"
    }
   ],
   "source": [
    "full.head()\n"
   ]
  },
  {
   "attachments": {},
   "cell_type": "markdown",
   "metadata": {},
   "source": [
    "# Label analysis"
   ]
  },
  {
   "cell_type": "code",
   "execution_count": 11,
   "metadata": {},
   "outputs": [
    {
     "name": "stdout",
     "output_type": "stream",
     "text": [
      "f1 lora=0.8832395589987994 & f1 full=0.9022181400980718\n",
      "acc lora=0.8832451140065146 & acc full=0.902178338762215\n",
      "prec lora=0.8832387590047901 & prec full=0.9023125710571344\n",
      "recall lora=0.8832451140065146 & recall full=0.902178338762215\n"
     ]
    }
   ],
   "source": [
    "from sklearn.metrics import f1_score, accuracy_score, precision_score, recall_score\n",
    "\n",
    "full_f1 = f1_score(full[\"reference_label\"], full[\"predicted_label\"], average=\"weighted\")\n",
    "lora_f1 = f1_score(lora[\"reference_label\"], lora[\"predicted_label\"], average=\"weighted\")\n",
    "full_acc = accuracy_score(full[\"reference_label\"], full[\"predicted_label\"])\n",
    "lora_acc = accuracy_score(lora[\"reference_label\"], lora[\"predicted_label\"])\n",
    "full_prec = precision_score(full[\"reference_label\"], full[\"predicted_label\"], average=\"weighted\")\n",
    "lora_prec = precision_score(lora[\"reference_label\"], lora[\"predicted_label\"], average=\"weighted\")\n",
    "full_rec = recall_score(full[\"reference_label\"], full[\"predicted_label\"], average=\"weighted\")\n",
    "lora_rec = recall_score(lora[\"reference_label\"], lora[\"predicted_label\"], average=\"weighted\")\n",
    "\n",
    "print(f\"f1 lora={lora_f1} & f1 full={full_f1}\")\n",
    "print(f\"acc lora={lora_acc} & acc full={full_acc}\")\n",
    "print(f\"prec lora={lora_prec} & prec full={full_prec}\")\n",
    "print(f\"recall lora={lora_rec} & recall full={full_rec}\")\n"
   ]
  },
  {
   "attachments": {},
   "cell_type": "markdown",
   "metadata": {},
   "source": [
    "# Identify errors "
   ]
  },
  {
   "cell_type": "code",
   "execution_count": 12,
   "metadata": {},
   "outputs": [
    {
     "name": "stdout",
     "output_type": "stream",
     "text": [
      "[5, 36, 37, 62, 78, 92, 148, 173, 237, 304, 457, 481, 546, 549, 645, 822, 833, 851, 953, 1041, 1101, 1126, 1137, 1163, 1169, 1203, 1206, 1222, 1270, 1325, 1346, 1356, 1417, 1525, 1533, 1540, 1557, 1585, 1591, 1802, 1871, 1895, 1924, 1927, 1978, 2014, 2030, 2050, 2119, 2132, 2208, 2234, 2284, 2318, 2425, 2563, 2620, 2621, 2671, 2700, 2730, 2793, 2860, 2939, 2948, 2974, 3019, 3061, 3062, 3070, 3203, 3226, 3233, 3273, 3324, 3350, 3491, 3565, 3826, 3847, 3969, 4046, 4087, 4123, 4133, 4136, 4273, 4303, 4327, 4356, 4444, 4483, 4555, 4574, 4611, 4631, 4706, 4726, 4821, 4860, 4879, 4888, 4924, 4965, 4989, 5094, 5110, 5164, 5273, 5300, 5366, 5430, 5449, 5459, 5472, 5490, 5620, 5890, 6024, 6132, 6183, 6226, 6276, 6345, 6372, 6445, 6466, 6467, 6501, 6570, 6683, 6741, 6779, 6820, 6891, 6931, 6934, 6962, 6988, 7013, 7021, 7022, 7034, 7047, 7067, 7093, 7137, 7229, 7264, 7335, 7365, 7378, 7385, 7424, 7461, 7501, 7504, 7513, 7522, 7528, 7535, 7592, 7628, 7635, 7642, 7675, 7705, 7716, 7744, 7788, 7815, 7823, 7836, 7848, 7962, 7984, 8024, 8031, 8092, 8257, 8277, 8427, 8474, 8521, 8685, 8728, 8742, 8756, 8761, 8818, 8819, 8825, 8834, 8867, 8935, 8996, 8999, 9013, 9122, 9149, 9164, 9178, 9197, 9214, 9259, 9297, 9301, 9385, 9404, 9410, 9475, 9567, 9667, 9671, 9728, 9746, 9790, 9800]\n",
      "218\n",
      "[4, 79, 111, 225, 248, 258, 278, 324, 325, 371, 393, 397, 409, 427, 441, 484, 493, 499, 538, 556, 560, 575, 623, 654, 697, 704, 716, 754, 756, 786, 794, 819, 820, 825, 845, 907, 920, 933, 976, 994, 1034, 1045, 1052, 1058, 1087, 1123, 1127, 1164, 1173, 1190, 1248, 1263, 1281, 1289, 1329, 1339, 1349, 1359, 1421, 1423, 1431, 1451, 1481, 1482, 1502, 1534, 1553, 1565, 1566, 1568, 1583, 1607, 1610, 1620, 1637, 1663, 1702, 1710, 1787, 1832, 1838, 1846, 1867, 1880, 1889, 1891, 1908, 1920, 1935, 1956, 1967, 1981, 1988, 2002, 2022, 2046, 2086, 2143, 2146, 2178, 2193, 2204, 2207, 2213, 2248, 2354, 2394, 2401, 2407, 2437, 2441, 2449, 2454, 2483, 2492, 2543, 2578, 2622, 2627, 2683, 2734, 2752, 2754, 2842, 2862, 2872, 2888, 2897, 2956, 3026, 3056, 3063, 3105, 3106, 3113, 3154, 3215, 3220, 3285, 3298, 3326, 3342, 3351, 3358, 3407, 3448, 3451, 3452, 3478, 3489, 3504, 3519, 3525, 3550, 3603, 3607, 3627, 3629, 3634, 3664, 3703, 3713, 3717, 3722, 3766, 3777, 3784, 3797, 3854, 3913, 3923, 3933, 3951, 4014, 4020, 4031, 4138, 4166, 4189, 4199, 4209, 4230, 4286, 4294, 4308, 4319, 4355, 4383, 4385, 4391, 4401, 4405, 4406, 4409, 4474, 4490, 4496, 4497, 4521, 4552, 4635, 4678, 4679, 4785, 4837, 4847, 4850, 4906, 4908, 4921, 4958, 4987, 4990, 5015, 5034, 5055, 5116, 5187, 5206, 5280, 5310, 5348, 5359, 5395, 5450, 5477, 5483, 5518, 5530, 5570, 5577, 5593, 5638, 5644, 5645, 5648, 5656, 5677, 5688, 5695, 5704, 5729, 5741, 5797, 5805, 5823, 5851, 5861, 5876, 5877, 5878, 5879, 5934, 6011, 6023, 6033, 6040, 6041, 6071, 6090, 6095, 6104, 6110, 6112, 6120, 6348, 6359, 6404, 6426, 6427, 6432, 6449, 6518, 6571, 6577, 6584, 6585, 6639, 6715, 6719, 6757, 6758, 6793, 6869, 6892, 6906, 6956, 6998, 7066, 7228, 7267, 7271, 7273, 7276, 7280, 7282, 7313, 7334, 7361, 7369, 7396, 7398, 7409, 7411, 7428, 7457, 7459, 7476, 7521, 7552, 7574, 7603, 7625, 7643, 7712, 7717, 7822, 7838, 7943, 7945, 7947, 7955, 8003, 8007, 8034, 8037, 8054, 8059, 8061, 8108, 8131, 8167, 8170, 8185, 8200, 8209, 8280, 8285, 8289, 8291, 8292, 8306, 8345, 8346, 8358, 8378, 8391, 8411, 8422, 8433, 8439, 8442, 8479, 8595, 8609, 8718, 8769, 8807, 8815, 8843, 8864, 8870, 8888, 8893, 9010, 9036, 9059, 9060, 9073, 9105, 9134, 9142, 9173, 9185, 9211, 9213, 9221, 9264, 9269, 9329, 9467, 9474, 9481, 9494, 9504, 9519, 9541, 9542, 9553, 9582, 9604, 9624, 9628, 9639, 9658, 9669, 9691, 9700, 9720, 9722, 9730, 9758, 9775, 9809]\n",
      "404\n"
     ]
    }
   ],
   "source": [
    "# create csvs with wrong answers\n",
    "df_full = full.assign(correct=full.predicted_label == full.reference_label)\n",
    "full_false = df_full[df_full['correct'] == False].drop('correct', axis=1)\n",
    "\n",
    "df_lora = lora.assign(correct=lora.predicted_label == lora.reference_label)\n",
    "lora_false = df_lora[df_lora['correct'] == False].drop('correct', axis=1)\n",
    "\n",
    "full_false.to_csv('./results/False_Predictions_Full.csv', index=True)\n",
    "lora_false.to_csv('./results/False_Predictions_Lora.csv', index=True)\n",
    "\n",
    "# find items that one model gets correct whereas the other doesn't\n",
    "lora_false_list = lora_false.index.tolist()\n",
    "full_false_list = full_false.index.tolist()\n",
    "\n",
    "not_in_lora = [x for x in full_false_list if x not in lora_false_list]\n",
    "not_in_full = [x for x in lora_false_list if x not in full_false_list]\n",
    "\n",
    "print(not_in_lora)\n",
    "print(len(not_in_lora))\n",
    "\n",
    "print(not_in_full)\n",
    "print(len(not_in_full))\n",
    "\n"
   ]
  },
  {
   "attachments": {},
   "cell_type": "markdown",
   "metadata": {},
   "source": [
    "# Analyse occurance of negation"
   ]
  },
  {
   "cell_type": "code",
   "execution_count": 55,
   "metadata": {},
   "outputs": [
    {
     "name": "stdout",
     "output_type": "stream",
     "text": [
      "9824\n",
      "The pattern \"(.+?) (not) (.+)\" occurs 3665 times in the \"generated_text\" column: 0.37306596091205213%..\n",
      "961\n",
      "The pattern \"(.+?) (not) (.+)\" occurs 461 times in the \"generated_text\" column: 0.4797086368366285%.\n"
     ]
    }
   ],
   "source": [
    "pattern = r'(.+?) (not) (.+)'\n",
    "\n",
    "all_count = full['generated_text'].str.count(pattern).sum()\n",
    "false_count = full_false['generated_text'].str.count(pattern).sum()\n",
    "\n",
    "total = len(full['generated_text'])\n",
    "print(total)\n",
    "print(f'The pattern \"{pattern}\" occurs {all_count} times in the \"generated_text\" column: {all_count/total}%..')\n",
    "\n",
    "total_false = len(full_false['generated_text'])\n",
    "print(total_false)\n",
    "print(f'The pattern \"{pattern}\" occurs {false_count} times in the \"generated_text\" column: {false_count/total_false}%.')\n"
   ]
  }
 ],
 "metadata": {
  "kernelspec": {
   "display_name": "nlp",
   "language": "python",
   "name": "nlp"
  },
  "language_info": {
   "codemirror_mode": {
    "name": "ipython",
    "version": 3
   },
   "file_extension": ".py",
   "mimetype": "text/x-python",
   "name": "python",
   "nbconvert_exporter": "python",
   "pygments_lexer": "ipython3",
   "version": "3.8.2"
  },
  "orig_nbformat": 4
 },
 "nbformat": 4,
 "nbformat_minor": 2
}
