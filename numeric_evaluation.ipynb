{
 "cells": [
  {
   "cell_type": "code",
   "execution_count": 3,
   "metadata": {},
   "outputs": [],
   "source": [
    "import pandas as pd\n",
    "\n",
    "full = pd.read_csv('./results/Predictions_Full.csv')\n",
    "lora = pd.read_csv('./results/Predictions_Lora.csv')\n"
   ]
  },
  {
   "cell_type": "code",
   "execution_count": 4,
   "metadata": {},
   "outputs": [
    {
     "data": {
      "text/html": [
       "<div>\n",
       "<style scoped>\n",
       "    .dataframe tbody tr th:only-of-type {\n",
       "        vertical-align: middle;\n",
       "    }\n",
       "\n",
       "    .dataframe tbody tr th {\n",
       "        vertical-align: top;\n",
       "    }\n",
       "\n",
       "    .dataframe thead th {\n",
       "        text-align: right;\n",
       "    }\n",
       "</style>\n",
       "<table border=\"1\" class=\"dataframe\">\n",
       "  <thead>\n",
       "    <tr style=\"text-align: right;\">\n",
       "      <th></th>\n",
       "      <th>input_text</th>\n",
       "      <th>generated_text</th>\n",
       "      <th>reference_texts_0</th>\n",
       "      <th>reference_texts_1</th>\n",
       "      <th>reference_texts_2</th>\n",
       "      <th>predicted_label</th>\n",
       "      <th>reference_label</th>\n",
       "    </tr>\n",
       "  </thead>\n",
       "  <tbody>\n",
       "    <tr>\n",
       "      <th>0</th>\n",
       "      <td>premise: This church choir sings to the masses...</td>\n",
       "      <td>The church choir can't sing joyous songs if th...</td>\n",
       "      <td>Not all churches have cracks in the ceiling</td>\n",
       "      <td>There is no indication that there are cracks i...</td>\n",
       "      <td>Not all churches have cracks in the ceiling.</td>\n",
       "      <td>contradiction</td>\n",
       "      <td>neutral</td>\n",
       "    </tr>\n",
       "    <tr>\n",
       "      <th>1</th>\n",
       "      <td>premise: This church choir sings to the masses...</td>\n",
       "      <td>A church choir sings joyous songs from the boo...</td>\n",
       "      <td>\"Filled with song\" is a rephrasing of the \"cho...</td>\n",
       "      <td>hearing song brings joyous in the church.</td>\n",
       "      <td>If the church choir sings then the church is f...</td>\n",
       "      <td>entailment</td>\n",
       "      <td>entailment</td>\n",
       "    </tr>\n",
       "    <tr>\n",
       "      <th>2</th>\n",
       "      <td>premise: This church choir sings to the masses...</td>\n",
       "      <td>A church choir is not a baseball game.</td>\n",
       "      <td>A choir sing some other songs other than book ...</td>\n",
       "      <td>The choir is at a chruch not a baseball game.</td>\n",
       "      <td>A baseball game isn’t played at a church.</td>\n",
       "      <td>contradiction</td>\n",
       "      <td>contradiction</td>\n",
       "    </tr>\n",
       "    <tr>\n",
       "      <th>3</th>\n",
       "      <td>premise: A woman with a green headscarf, blue ...</td>\n",
       "      <td>Not all women are young.</td>\n",
       "      <td>the woman could've been old rather than young</td>\n",
       "      <td>There is no indication that the woman is young.</td>\n",
       "      <td>Not all women are young.</td>\n",
       "      <td>neutral</td>\n",
       "      <td>neutral</td>\n",
       "    </tr>\n",
       "    <tr>\n",
       "      <th>4</th>\n",
       "      <td>premise: A woman with a green headscarf, blue ...</td>\n",
       "      <td>A woman with a big grin is not necessarily ver...</td>\n",
       "      <td>a grin suggests hapiness.</td>\n",
       "      <td>A WOMAN WITH BIG GRIN IS HAPPY</td>\n",
       "      <td>One must be happy in order to have a big grin.</td>\n",
       "      <td>entailment</td>\n",
       "      <td>entailment</td>\n",
       "    </tr>\n",
       "  </tbody>\n",
       "</table>\n",
       "</div>"
      ],
      "text/plain": [
       "                                          input_text  \\\n",
       "0  premise: This church choir sings to the masses...   \n",
       "1  premise: This church choir sings to the masses...   \n",
       "2  premise: This church choir sings to the masses...   \n",
       "3  premise: A woman with a green headscarf, blue ...   \n",
       "4  premise: A woman with a green headscarf, blue ...   \n",
       "\n",
       "                                      generated_text  \\\n",
       "0  The church choir can't sing joyous songs if th...   \n",
       "1  A church choir sings joyous songs from the boo...   \n",
       "2             A church choir is not a baseball game.   \n",
       "3                           Not all women are young.   \n",
       "4  A woman with a big grin is not necessarily ver...   \n",
       "\n",
       "                                   reference_texts_0  \\\n",
       "0        Not all churches have cracks in the ceiling   \n",
       "1  \"Filled with song\" is a rephrasing of the \"cho...   \n",
       "2  A choir sing some other songs other than book ...   \n",
       "3      the woman could've been old rather than young   \n",
       "4                          a grin suggests hapiness.   \n",
       "\n",
       "                                   reference_texts_1  \\\n",
       "0  There is no indication that there are cracks i...   \n",
       "1          hearing song brings joyous in the church.   \n",
       "2      The choir is at a chruch not a baseball game.   \n",
       "3    There is no indication that the woman is young.   \n",
       "4                     A WOMAN WITH BIG GRIN IS HAPPY   \n",
       "\n",
       "                                   reference_texts_2 predicted_label  \\\n",
       "0       Not all churches have cracks in the ceiling.   contradiction   \n",
       "1  If the church choir sings then the church is f...      entailment   \n",
       "2          A baseball game isn’t played at a church.   contradiction   \n",
       "3                           Not all women are young.         neutral   \n",
       "4     One must be happy in order to have a big grin.      entailment   \n",
       "\n",
       "  reference_label  \n",
       "0         neutral  \n",
       "1      entailment  \n",
       "2   contradiction  \n",
       "3         neutral  \n",
       "4      entailment  "
      ]
     },
     "execution_count": 4,
     "metadata": {},
     "output_type": "execute_result"
    }
   ],
   "source": [
    "full.head()\n"
   ]
  },
  {
   "attachments": {},
   "cell_type": "markdown",
   "metadata": {},
   "source": [
    "# Label analysis"
   ]
  },
  {
   "cell_type": "code",
   "execution_count": 5,
   "metadata": {},
   "outputs": [
    {
     "name": "stdout",
     "output_type": "stream",
     "text": [
      "f1 lora=0.8832395589987994 & f1 full=0.9022181400980718\n",
      "acc lora=0.8832451140065146 & acc full=0.902178338762215\n",
      "prec lora=0.8832387590047901 & prec full=0.9023125710571344\n",
      "recall lora=0.8832451140065146 & recall full=0.902178338762215\n"
     ]
    }
   ],
   "source": [
    "from sklearn.metrics import f1_score, accuracy_score, precision_score, recall_score\n",
    "\n",
    "full_f1 = f1_score(full[\"reference_label\"], full[\"predicted_label\"], average=\"weighted\")\n",
    "lora_f1 = f1_score(lora[\"reference_label\"], lora[\"predicted_label\"], average=\"weighted\")\n",
    "full_acc = accuracy_score(full[\"reference_label\"], full[\"predicted_label\"])\n",
    "lora_acc = accuracy_score(lora[\"reference_label\"], lora[\"predicted_label\"])\n",
    "full_prec = precision_score(full[\"reference_label\"], full[\"predicted_label\"], average=\"weighted\")\n",
    "lora_prec = precision_score(lora[\"reference_label\"], lora[\"predicted_label\"], average=\"weighted\")\n",
    "full_rec = recall_score(full[\"reference_label\"], full[\"predicted_label\"], average=\"weighted\")\n",
    "lora_rec = recall_score(lora[\"reference_label\"], lora[\"predicted_label\"], average=\"weighted\")\n",
    "\n",
    "print(f\"f1 lora={lora_f1} & f1 full={full_f1}\")\n",
    "print(f\"acc lora={lora_acc} & acc full={full_acc}\")\n",
    "print(f\"prec lora={lora_prec} & prec full={full_prec}\")\n",
    "print(f\"recall lora={lora_rec} & recall full={full_rec}\")\n"
   ]
  },
  {
   "attachments": {},
   "cell_type": "markdown",
   "metadata": {},
   "source": [
    "# Identify errors "
   ]
  },
  {
   "cell_type": "code",
   "execution_count": null,
   "metadata": {},
   "outputs": [],
   "source": [
    "# create csvs with wrong answers\n",
    "df_full = full.assign(correct=full.predicted_label == full.reference_label)\n",
    "full_false = df_full[df_full['correct'] == False].drop('correct', axis=1)\n",
    "\n",
    "df_lora = lora.assign(correct=lora.predicted_label == lora.reference_label)\n",
    "lora_false = df_lora[df_lora['correct'] == False].drop('correct', axis=1)\n",
    "\n",
    "full_false.to_csv('./results/False_Predictions_Full.csv', index=True)\n",
    "lora_false.to_csv('./results/False_Predictions_Lora.csv', index=True)\n",
    "\n",
    "# find items that one model gets correct whereas the other doesn't\n",
    "lora_false_list = lora_false.index.tolist()\n",
    "full_false_list = full_false.index.tolist()\n",
    "\n",
    "not_in_lora = [x for x in full_false_list if x not in lora_false_list]\n",
    "not_in_full = [x for x in lora_false_list if x not in full_false_list]\n",
    "\n",
    "print(not_in_lora)\n",
    "print(len(not_in_lora))\n",
    "\n",
    "print(not_in_full)\n",
    "print(len(not_in_full))\n",
    "\n"
   ]
  }
 ],
 "metadata": {
  "kernelspec": {
   "display_name": "nlp",
   "language": "python",
   "name": "nlp"
  },
  "language_info": {
   "codemirror_mode": {
    "name": "ipython",
    "version": 3
   },
   "file_extension": ".py",
   "mimetype": "text/x-python",
   "name": "python",
   "nbconvert_exporter": "python",
   "pygments_lexer": "ipython3",
   "version": "3.8.2"
  },
  "orig_nbformat": 4
 },
 "nbformat": 4,
 "nbformat_minor": 2
}
